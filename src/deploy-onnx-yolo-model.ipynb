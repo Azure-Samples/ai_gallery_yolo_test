{
 "cells": [
  {
   "cell_type": "markdown",
   "metadata": {},
   "source": [
    "Copyright (c) Microsoft Corporation. All rights reserved.\n",
    "\n",
    "Licensed under the MIT License."
   ]
  },
  {
   "cell_type": "markdown",
   "metadata": {},
   "source": [
    "## Deploy YOLO Real-time Object Detection using ONNX on AzureML\n",
    "\n",
    "Prototype for Gallery scenario"
   ]
  },
  {
   "cell_type": "markdown",
   "metadata": {},
   "source": [
    "### Download TinyYOLO Models"
   ]
  },
  {
   "cell_type": "code",
   "execution_count": null,
   "metadata": {
    "scrolled": true
   },
   "outputs": [],
   "source": [
    "import time\n",
    "\n",
    "start = time.time()\n",
    "!wget -nc -P model/ https://s3-us-west-2.amazonaws.com/coreml-models/TinyYOLO.mlmodel\n",
    "\n",
    "end = time.time()\n",
    "print(\"Model download latency: {} seconds\".format(end-start))"
   ]
  },
  {
   "cell_type": "markdown",
   "metadata": {},
   "source": [
    "### Install Dependency\n",
    "\n",
    "*TODO*: How to do it via AZ NB Env setup?"
   ]
  },
  {
   "cell_type": "code",
   "execution_count": null,
   "metadata": {},
   "outputs": [],
   "source": [
    "!pip install --upgrade onnxmltools\n",
    "!pip install --upgrade coremltools"
   ]
  },
  {
   "cell_type": "markdown",
   "metadata": {},
   "source": [
    "#### Convert TinyYOLO from CoreML model to ONNX model\n",
    "\n",
    "*TODO*: currently have an issue that \"import onnxmltools\" fails due to notebook incorrectly recognizes typing package version to be 3.6.2. The current workaround is to restart the kernal. I am troubleshooting this with AZ NB team meanwhile."
   ]
  },
  {
   "cell_type": "code",
   "execution_count": 1,
   "metadata": {},
   "outputs": [
    {
     "name": "stderr",
     "output_type": "stream",
     "text": [
      "WARNING:root:Keras version 2.2.2 detected. Last version known to be fully compatible of Keras is 2.1.6 .\n"
     ]
    },
    {
     "name": "stdout",
     "output_type": "stream",
     "text": [
      "63480743\n",
      "Model conversion latency: 80.82259154319763 seconds\n"
     ]
    }
   ],
   "source": [
    "import onnxmltools\n",
    "import coremltools\n",
    "import time\n",
    "import os\n",
    "\n",
    "start = time.time()\n",
    "\n",
    "# Load a CoreML model\n",
    "coreml_model = coremltools.utils.load_spec('model/TinyYOLO.mlmodel')\n",
    "\n",
    "# Convert from CoreML into ONNX\n",
    "onnx_model = onnxmltools.convert_coreml(coreml_model, 'TinyYOLOv2')\n",
    "\n",
    "# Save ONNX model\n",
    "onnxmltools.utils.save_model(onnx_model, 'model/tinyyolov2.onnx')\n",
    "\n",
    "print(os.path.getsize('model/tinyyolov2.onnx'))\n",
    "\n",
    "end = time.time()\n",
    "print(\"Model conversion latency: {} seconds\".format(end-start))"
   ]
  },
  {
   "cell_type": "markdown",
   "metadata": {},
   "source": [
    "### Load AML Workspace"
   ]
  },
  {
   "cell_type": "code",
   "execution_count": 2,
   "metadata": {},
   "outputs": [
    {
     "name": "stdout",
     "output_type": "stream",
     "text": [
      "Found the config file in: /home/nbuser/library/aml_config/config.json\n",
      "ONNX_YOLO_WS bc69d98c-7d2b-4542-88a4-f86eb4aea4a5 AndyXu_Test_RP eastus2\n"
     ]
    }
   ],
   "source": [
    "from azureml.core import Workspace\n",
    "ws = Workspace.from_config()\n",
    "print(ws.name, ws.subscription_id, ws.resource_group, ws.location)"
   ]
  },
  {
   "cell_type": "markdown",
   "metadata": {},
   "source": [
    "### Register Tiny YOLO Model to MMS\n"
   ]
  },
  {
   "cell_type": "code",
   "execution_count": 3,
   "metadata": {},
   "outputs": [
    {
     "name": "stdout",
     "output_type": "stream",
     "text": [
      "Registering model tinyyolov2\n",
      "Register model latency: 82.33424162864685 seconds\n",
      "Model id=tinyyolov2:1, name=tinyyolov2, created time=2018-10-17 18:37:19.473745+00:00\n"
     ]
    }
   ],
   "source": [
    "from azureml.core.model import Model\n",
    "\n",
    "start = time.time()\n",
    "\n",
    "model = Model.register(\n",
    "    workspace = ws,\n",
    "    model_path = \"model/tinyyolov2.onnx\",\n",
    "    model_name = \"tinyyolov2\",\n",
    "    tags = {\"onnx\": \"demo\"})\n",
    "\n",
    "end = time.time()\n",
    "print(\"Register model latency: {} seconds\".format(end-start))\n",
    "print(\"Model id={}, name={}, created time={}\".format(\n",
    "    model.id, \n",
    "    model.name, \n",
    "    model.created_time))"
   ]
  },
  {
   "cell_type": "markdown",
   "metadata": {},
   "source": [
    "### Build Container Image "
   ]
  },
  {
   "cell_type": "code",
   "execution_count": 4,
   "metadata": {},
   "outputs": [
    {
     "name": "stdout",
     "output_type": "stream",
     "text": [
      "Creating image\n",
      "Running..............................\n",
      "SucceededImage creation operation finished for image onnx-yolo-demo-image:1, operation \"Succeeded\"\n",
      "Image creation latency: 216.7919270992279 seconds\n",
      "ContainerImage(workspace=<azureml.core.workspace.Workspace object at 0x7ff9c854f400>, name=onnx-yolo-demo-image, id=onnx-yolo-demo-image:1, tags={'onnx': 'demo'}, properties={}, version=1)\n"
     ]
    }
   ],
   "source": [
    "from azureml.core.image import Image, ContainerImage\n",
    "\n",
    "image_config = ContainerImage.image_configuration(\n",
    "    execution_script = \"score.py\",\n",
    "    runtime = \"python\", \n",
    "    dependencies = [\"app.py\", \"ui.html\", \"static/bundle.js\"],\n",
    "    conda_file = \"env.yml\",\n",
    "    tags = {\"onnx\": \"demo\"})\n",
    "\n",
    "start = time.time()\n",
    "image = Image.create(\n",
    "    workspace = ws,\n",
    "    name = \"onnx-yolo-demo-image\",\n",
    "    models = [model],\n",
    "    image_config = image_config\n",
    ")\n",
    "\n",
    "image.wait_for_creation(show_output = True)\n",
    "\n",
    "end = time.time()\n",
    "print(\"Image creation latency: {} seconds\".format(end-start))\n",
    "print(image)"
   ]
  },
  {
   "cell_type": "markdown",
   "metadata": {},
   "source": [
    "### Deploy Image to ACI"
   ]
  },
  {
   "cell_type": "code",
   "execution_count": 5,
   "metadata": {},
   "outputs": [
    {
     "name": "stdout",
     "output_type": "stream",
     "text": [
      "Creating service\n",
      "Running..................................\n",
      "SucceededACI service creation operation finished, operation \"Succeeded\"\n",
      "Service deployment latency: 232.32787942886353 seconds\n"
     ]
    }
   ],
   "source": [
    "from azureml.core.webservice import AciWebservice, Webservice\n",
    "\n",
    "aci_config = AciWebservice.deploy_configuration(cpu_cores = 1, memory_gb = 1)\n",
    "\n",
    "start = time.time()\n",
    "aci_service = Webservice.deploy_from_image(\n",
    "    workspace = ws,\n",
    "    name = \"onnx-yolo-demo-service\",\n",
    "    image = image,\n",
    "    deployment_config = aci_config)\n",
    "aci_service.wait_for_deployment(show_output = True)\n",
    "\n",
    "end = time.time()\n",
    "print(\"Service deployment latency: {} seconds\".format(end-start))"
   ]
  },
  {
   "cell_type": "markdown",
   "metadata": {},
   "source": [
    "### Run Inference\n",
    "\n",
    "*TODO*: Make it UX friendly via either run a script with sample data or let us consume the UI page\n"
   ]
  },
  {
   "cell_type": "code",
   "execution_count": 8,
   "metadata": {},
   "outputs": [
    {
     "name": "stdout",
     "output_type": "stream",
     "text": [
      "Try out the ONNX TinyYolo model at http://137.135.118.28:80/score\n"
     ]
    }
   ],
   "source": [
    "# Get demo URL \n",
    "demo_uri = aci_service.scoring_uri.replace(\"/score\", \"/ui\")\n",
    "print(\"Try out the ONNX TinyYOLO model at {}\".format(demo_uri))"
   ]
  },
  {
   "cell_type": "markdown",
   "metadata": {},
   "source": [
    "### Cleanup Resources\n",
    "\n",
    "Delete the web serivce, image, and models"
   ]
  },
  {
   "cell_type": "code",
   "execution_count": null,
   "metadata": {},
   "outputs": [],
   "source": [
    "aci_service.delete()\n",
    "image.delete()\n",
    "model.delete()\n",
    "print(\"Successfully deleted models, image and service.\")"
   ]
  },
  {
   "cell_type": "code",
   "execution_count": null,
   "metadata": {},
   "outputs": [],
   "source": []
  }
 ],
 "metadata": {
  "kernelspec": {
   "display_name": "Python 3.6",
   "language": "python",
   "name": "python36"
  },
  "language_info": {
   "codemirror_mode": {
    "name": "ipython",
    "version": 3
   },
   "file_extension": ".py",
   "mimetype": "text/x-python",
   "name": "python",
   "nbconvert_exporter": "python",
   "pygments_lexer": "ipython3",
   "version": "3.6.6"
  }
 },
 "nbformat": 4,
 "nbformat_minor": 2
}
